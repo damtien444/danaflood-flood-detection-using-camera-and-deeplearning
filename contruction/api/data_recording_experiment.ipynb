{
 "cells": [
  {
   "cell_type": "code",
   "execution_count": 1,
   "metadata": {
    "collapsed": true
   },
   "outputs": [],
   "source": [
    "import csv\n",
    "\n",
    "csv_path = \"test.csv\"\n",
    "\n",
    "fields = [\"test\", 'ahah', 223]\n",
    "with open(csv_path, 'a') as f:\n",
    "    writer = csv.writer(f)\n",
    "    writer.writerow(fields)"
   ]
  },
  {
   "cell_type": "code",
   "execution_count": 15,
   "outputs": [
    {
     "name": "stdout",
     "output_type": "stream",
     "text": [
      "['sss', 'ss', 1, 2]\n"
     ]
    }
   ],
   "source": [
    "def write_log(path_to_csv, value, debug=False):\n",
    "    if debug:\n",
    "        print(value)\n",
    "    with open(path_to_csv, 'a', newline='',) as f:\n",
    "        writer = csv.writer(f)\n",
    "        writer.writerow(value)\n",
    "\n",
    "write_log(\"test.csv\", ['sss', 'ss', 1, 2], debug=True)"
   ],
   "metadata": {
    "collapsed": false
   }
  },
  {
   "cell_type": "code",
   "execution_count": 1,
   "outputs": [],
   "source": [
    "import os\n",
    "\n",
    "train = r\"E:\\DATN_local\\1_IN_USED_DATASET\\TRAIN_DEV\"\n",
    "val = r\"E:\\DATN_local\\1_IN_USED_DATASET\\VAL\"\n",
    "test = r\"E:\\DATN_local\\1_IN_USED_DATASET\\TEST\"\n",
    "json = r''\n",
    "\n",
    "import json\n",
    "\n",
    "with open('path_to_file/person.json', 'r') as f:\n",
    "  data = json.load(f)"
   ],
   "metadata": {
    "collapsed": false
   }
  },
  {
   "cell_type": "code",
   "execution_count": 9,
   "outputs": [],
   "source": [
    "for folder in [train, val, test]:\n",
    "    for file in os.listdir(folder):\n"
   ],
   "metadata": {
    "collapsed": false
   }
  }
 ],
 "metadata": {
  "kernelspec": {
   "display_name": "Python 3",
   "language": "python",
   "name": "python3"
  },
  "language_info": {
   "codemirror_mode": {
    "name": "ipython",
    "version": 2
   },
   "file_extension": ".py",
   "mimetype": "text/x-python",
   "name": "python",
   "nbconvert_exporter": "python",
   "pygments_lexer": "ipython2",
   "version": "2.7.6"
  }
 },
 "nbformat": 4,
 "nbformat_minor": 0
}
