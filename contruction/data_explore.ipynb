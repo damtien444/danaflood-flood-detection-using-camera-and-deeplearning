{
 "cells": [
  {
   "cell_type": "code",
   "execution_count": 1,
   "metadata": {
    "collapsed": true
   },
   "outputs": [],
   "source": [
    "import os\n",
    "\n",
    "import matplotlib.pyplot as plt\n",
    "\n",
    "test = r\"E:\\DATN_local\\1_IN_USED_DATASET\\TEST\"\n",
    "train_dev = r\"E:\\DATN_local\\1_IN_USED_DATASET\\TRAIN_DEV\"\n",
    "val = r\"E:\\DATN_local\\1_IN_USED_DATASET\\VAL\""
   ]
  },
  {
   "cell_type": "code",
   "execution_count": 2,
   "outputs": [],
   "source": [
    "import plotly.express as px  # interactive charts\n",
    "\n",
    "len_ = [len(os.listdir(test)), len(os.listdir(train_dev)), len(os.listdir(val))]"
   ],
   "metadata": {
    "collapsed": false
   }
  },
  {
   "cell_type": "code",
   "execution_count": 3,
   "outputs": [
    {
     "data": {
      "text/plain": "1683"
     },
     "execution_count": 3,
     "metadata": {},
     "output_type": "execute_result"
    }
   ],
   "source": [
    "sum(len_)"
   ],
   "metadata": {
    "collapsed": false
   }
  },
  {
   "cell_type": "code",
   "execution_count": 4,
   "outputs": [
    {
     "name": "stdout",
     "output_type": "stream",
     "text": [
      "0.17587641117052882\n",
      "0.7231134878193701\n",
      "0.10101010101010101\n"
     ]
    }
   ],
   "source": [
    "for l in len_:\n",
    "    print(l/sum(len_))"
   ],
   "metadata": {
    "collapsed": false
   }
  },
  {
   "cell_type": "code",
   "execution_count": 5,
   "outputs": [],
   "source": [
    "import json\n",
    "\n",
    "json_path = r\"E:\\DATN_local\\1_IN_USED_DATASET\\level_label.json\"\n",
    "\n",
    "with open(json_path) as json_file:\n",
    "    label_dict = json.load(json_file)\n",
    "\n",
    "\n",
    "list_of_sample = {}\n",
    "\n",
    "for file in os.listdir(test):\n",
    "    list_of_sample[file] = label_dict[file[:-4]]\n",
    "\n",
    "for file in os.listdir(train_dev):\n",
    "    list_of_sample[file] = label_dict[file[:-4]]\n",
    "\n",
    "for file in os.listdir(val):\n",
    "    list_of_sample[file] = label_dict[file[:-4]]"
   ],
   "metadata": {
    "collapsed": false
   }
  },
  {
   "cell_type": "code",
   "execution_count": 6,
   "outputs": [],
   "source": [
    "import pandas as pd\n",
    "sample_level_df = pd.DataFrame(list_of_sample.items(), columns=['Sample', 'Level'])"
   ],
   "metadata": {
    "collapsed": false
   }
  },
  {
   "cell_type": "code",
   "execution_count": 7,
   "outputs": [],
   "source": [
    "fig = px.bar(sample_level_df['Level'].value_counts(), )"
   ],
   "metadata": {
    "collapsed": false
   }
  },
  {
   "cell_type": "code",
   "execution_count": 8,
   "outputs": [],
   "source": [
    "sample_level_df['Level'] = pd.Categorical(sample_level_df['Level'], categories=[1,2,3,4], ordered=True)"
   ],
   "metadata": {
    "collapsed": false
   }
  },
  {
   "cell_type": "code",
   "execution_count": 9,
   "outputs": [
    {
     "data": {
      "text/plain": "[Text(0, 0, '454'), Text(0, 0, '166'), Text(0, 0, '610'), Text(0, 0, '70')]"
     },
     "execution_count": 9,
     "metadata": {},
     "output_type": "execute_result"
    },
    {
     "data": {
      "text/plain": "<Figure size 640x480 with 1 Axes>",
      "image/png": "[encoded data removed]"
     },
     "metadata": {},
     "output_type": "display_data"
    }
   ],
   "source": [
    "plt.rcParams[\"font.family\"] = \"Times New Roman\"\n",
    "\n",
    "ax = sample_level_df['Level'].value_counts().sort_index()\n",
    "\n",
    "x_label = ['0', '1', '2', '3']\n",
    "# ax.set_xticklabels()\n",
    "#\n",
    "# for bar in ax:\n",
    "#     yval = bar.get_height()\n",
    "#     plt.text(bar.get_x(), yval + .005, yval)\n",
    "\n",
    "# plt.show()\n",
    "figs = ax.plot(kind='bar', color=(0.1, 0.1, 0.1, 0.1),  edgecolor='blue')\n",
    "\n",
    "figs.axes.get_yaxis().set_visible(False)\n",
    "figs.set_xticklabels(x_label)\n",
    "figs.bar_label(figs.containers[0], label_type='edge')"
   ],
   "metadata": {
    "collapsed": false
   }
  },
  {
   "cell_type": "code",
   "execution_count": 22,
   "outputs": [],
   "source": [
    "import random\n",
    "\n",
    "choices = random.choices(os.listdir(train_dev), k=5)\n"
   ],
   "metadata": {
    "collapsed": false
   }
  },
  {
   "cell_type": "code",
   "execution_count": 23,
   "outputs": [
    {
     "data": {
      "text/plain": "['image_275.jpg',\n 'NGUYENHUE_SCHOOLGATE_CAM_102.jpg',\n 'EUROPEANFLOOD2013_26503361.jpg',\n 'image_275.jpg',\n 'image_377.jpg']"
     },
     "execution_count": 23,
     "metadata": {},
     "output_type": "execute_result"
    }
   ],
   "source": [
    "choices"
   ],
   "metadata": {
    "collapsed": false
   }
  },
  {
   "cell_type": "code",
   "execution_count": 24,
   "outputs": [],
   "source": [
    "train_dev_mask = r\"E:\\DATN_local\\1_IN_USED_DATASET\\TRAIN_DEV_MASK\"\n",
    "des = r\"C:\\Users\\damti\\OneDrive - The University of Technology\\Desktop\\Study\\Do an tot nghiep\\paper_development\\FIGURE\\data_describe\"\n",
    "for im in choices:\n",
    "    os.system(f'copy \"{train_dev}\\\\{im}\" \"{des}\"')\n",
    "    os.system(f'copy \"{train_dev_mask}\\\\{im[:-4]}_mask.jpg\" \"{des}\"')"
   ],
   "metadata": {
    "collapsed": false
   }
  },
  {
   "cell_type": "code",
   "execution_count": 29,
   "outputs": [
    {
     "data": {
      "text/plain": "<AxesSubplot:>"
     },
     "execution_count": 29,
     "metadata": {},
     "output_type": "execute_result"
    },
    {
     "data": {
      "text/plain": "<Figure size 1000x700 with 2 Axes>",
      "image/png": "[encoded data removed]"
     },
     "metadata": {},
     "output_type": "display_data"
    }
   ],
   "source": [
    "import seaborn as sn\n",
    "import pandas as pd\n",
    "import matplotlib.pyplot as plt\n",
    "array = [[209,   0,   2,   0],\n",
    "        [  0,   5,   3,   0],\n",
    "        [  0,   2,  60,   0],\n",
    "        [  0,   0,   0,  15]]\n",
    "df_cm = pd.DataFrame(array, index = [i for i in \"0123\"],\n",
    "                  columns = [i for i in \"0123\"])\n",
    "plt.figure(figsize = (10,7))\n",
    "sn.heatmap(df_cm, annot=True,cmap='Blues', fmt='g')"
   ],
   "metadata": {
    "collapsed": false
   }
  },
  {
   "cell_type": "code",
   "execution_count": null,
   "outputs": [],
   "source": [],
   "metadata": {
    "collapsed": false
   }
  }
 ],
 "metadata": {
  "kernelspec": {
   "display_name": "Python 3",
   "language": "python",
   "name": "python3"
  },
  "language_info": {
   "codemirror_mode": {
    "name": "ipython",
    "version": 2
   },
   "file_extension": ".py",
   "mimetype": "text/x-python",
   "name": "python",
   "nbconvert_exporter": "python",
   "pygments_lexer": "ipython2",
   "version": "2.7.6"
  }
 },
 "nbformat": 4,
 "nbformat_minor": 0
}
